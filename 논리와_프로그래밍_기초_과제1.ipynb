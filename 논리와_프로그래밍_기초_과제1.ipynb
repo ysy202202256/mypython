{
  "nbformat": 4,
  "nbformat_minor": 0,
  "metadata": {
    "colab": {
      "provenance": [],
      "authorship_tag": "ABX9TyP9GLzhwFmk+LKKe6e+OqXd",
      "include_colab_link": true
    },
    "kernelspec": {
      "name": "python3",
      "display_name": "Python 3"
    },
    "language_info": {
      "name": "python"
    }
  },
  "cells": [
    {
      "cell_type": "markdown",
      "metadata": {
        "id": "view-in-github",
        "colab_type": "text"
      },
      "source": [
        "<a href=\"https://colab.research.google.com/github/ysy202202256/mypython/blob/main/%EB%85%BC%EB%A6%AC%EC%99%80_%ED%94%84%EB%A1%9C%EA%B7%B8%EB%9E%98%EB%B0%8D_%EA%B8%B0%EC%B4%88_%EA%B3%BC%EC%A0%9C1.ipynb\" target=\"_parent\"><img src=\"https://colab.research.google.com/assets/colab-badge.svg\" alt=\"Open In Colab\"/></a>"
      ]
    },
    {
      "cell_type": "code",
      "execution_count": null,
      "metadata": {
        "colab": {
          "base_uri": "https://localhost:8080/"
        },
        "id": "zaBEit35Z1GI",
        "outputId": "2b9ae3e7-1056-4292-f077-77300b39725d"
      },
      "outputs": [
        {
          "output_type": "stream",
          "name": "stdout",
          "text": [
            "3\n"
          ]
        }
      ],
      "source": [
        "#윤수영 202202265 \n",
        "a=1\n",
        "b=2\n",
        "print(a+b)"
      ]
    },
    {
      "cell_type": "code",
      "source": [
        "while True:\n",
        "  a = input(\"정수를 입력해주세요:\")\n",
        "  if a.isdecimal() and float(a)>30:\n",
        "    print('너무 많습니다. 다시 입력해주세요.')\n",
        "  elif a.isdecimal() and float(a)<=30:\n",
        "    for i in range(1,int(a)+1):\n",
        "      for j in range(1,i+1):\n",
        "        print(j, end=\"\")\n",
        "      print()\n",
        "    break\n",
        "  elif float(a) < 0:\n",
        "    print('양수를 입력하세요.')\n",
        "  else:\n",
        "    print('정수로 입력하세요.')"
      ],
      "metadata": {
        "colab": {
          "base_uri": "https://localhost:8080/"
        },
        "id": "z9ovDpf7bBbM",
        "outputId": "881973b4-1464-4a9c-e9be-db6ef08be49c"
      },
      "execution_count": null,
      "outputs": [
        {
          "output_type": "stream",
          "name": "stdout",
          "text": [
            "정수를 입력해주세요:20.6\n",
            "정수로 입력하세요.\n",
            "정수를 입력해주세요:35\n",
            "너무 많습니다. 다시 입력해주세요.\n",
            "정수를 입력해주세요:-8\n",
            "양수를 입력하세요.\n",
            "정수를 입력해주세요:10\n",
            "1\n",
            "12\n",
            "123\n",
            "1234\n",
            "12345\n",
            "123456\n",
            "1234567\n",
            "12345678\n",
            "123456789\n",
            "12345678910\n"
          ]
        }
      ]
    },
    {
      "cell_type": "code",
      "source": [],
      "metadata": {
        "id": "Oan5mevGeXOF"
      },
      "execution_count": null,
      "outputs": []
    }
  ]
}